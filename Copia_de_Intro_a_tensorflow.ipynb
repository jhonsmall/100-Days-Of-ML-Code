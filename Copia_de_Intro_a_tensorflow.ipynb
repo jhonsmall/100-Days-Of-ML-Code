{
  "nbformat": 4,
  "nbformat_minor": 0,
  "metadata": {
    "colab": {
      "provenance": [],
      "toc_visible": true,
      "include_colab_link": true
    },
    "kernelspec": {
      "name": "python3",
      "display_name": "Python 3"
    },
    "accelerator": "GPU"
  },
  "cells": [
    {
      "cell_type": "markdown",
      "metadata": {
        "id": "view-in-github",
        "colab_type": "text"
      },
      "source": [
        "<a href=\"https://colab.research.google.com/github/jhonsmall/100-Days-Of-ML-Code/blob/master/Copia_de_Intro_a_tensorflow.ipynb\" target=\"_parent\"><img src=\"https://colab.research.google.com/assets/colab-badge.svg\" alt=\"Open In Colab\"/></a>"
      ]
    },
    {
      "cell_type": "markdown",
      "metadata": {
        "id": "0F6OBzl8Ohmc"
      },
      "source": [
        "# TensorFlow"
      ]
    },
    {
      "cell_type": "markdown",
      "metadata": {
        "id": "S2qQMOmzcmIJ"
      },
      "source": [
        "** ¡Bienvenid@!**\n",
        "\n",
        "Este cuaderno es parte del curso de introducción a TensorFlow. Si has tenido experiencia previa con Jupyter, este ambiente te será muy familiar. Esto es Colaboratory, un ambiente de cuadernos de Python. En los cuadernos de Python hay celdas que tienen texto (Markdown, que nos permite darle mucho estilo) y celdas en las que hay código de Python.\n",
        "\n",
        "Puedes acceder a este cuaderno en [Colab](https://colab.research.google.com/drive/1TIIaFJnnQsL_BwwJQAjU-JkZvaRJ-ybC).\n",
        "\n",
        "Para introducir, Colab nos da mucha flexibilidad y nos facilitará el curso eliminando la necesidad de configuración e instalación en su sistema. [Colab](https://medium.com/tensorflow/colab-an-easy-way-to-learn-and-use-tensorflow-d74d1686e309) es gratuito y es de Google. Más adelante veremos que también nos da acceso gratuito a hardware como GPUs y TPUs. Colab ya tiene muchas herramientas, como TensorFlow, instaladas. Si has llegado aquí, probablemente estés accediendo a una copia de un cuaderno de GitHub."
      ]
    },
    {
      "cell_type": "markdown",
      "metadata": {
        "id": "et1xuqjITpJ-"
      },
      "source": [
        "## Introducción"
      ]
    },
    {
      "cell_type": "markdown",
      "metadata": {
        "id": "dWHmwhSreP-N"
      },
      "source": [
        "Como se mencionó antes, Colab ya tiene TensorFlow instalado. En esta sección iniciamos importando la librería."
      ]
    },
    {
      "cell_type": "code",
      "metadata": {
        "id": "X_e1MTKjLECR"
      },
      "source": [
        "import tensorflow as tf"
      ],
      "execution_count": 3,
      "outputs": []
    },
    {
      "cell_type": "markdown",
      "metadata": {
        "id": "L5LLwJklnRHv"
      },
      "source": [
        "En TensorFlow todo es un **grafo**. Luego veremos Eager Execution, pero con el modelo de grafos, TensorFlow separa la definición de las operaciones o computaciones de su ejecución. La idea es que primero se define el grafo y luego se ejecuta en una sesión. TensorFlow sigue un modelo de programación típico para programación paralela llamado DataFlow. En un grafo, los nodos representan unidades de computación y las aristas representan los datos consumidos o producidos. En otras palabras:\n",
        "\n",
        "*   Un nodo es una operación (`tf.Operation`). También puede tener variables y constantes, las cuales veremos pronto.\n",
        "*   Una arista son datos (`tf.Tensor`)\n",
        "\n",
        "Un **tensor** es un arreglo de n dimensiones. Un tensor de 0 dimensiones es un escalar (un número). Un tensor de 1 dimensión es un vector. Finalmente, un tensor de n dimensiones es una matriz.  El número de dimensiones es conocido como **rank**.\n",
        "\n",
        "En la siguiente celda se tiene una operación, [tf.add](https://www.tensorflow.org/api_docs/python/tf/math/add), que suma dos tensores (de 0 dimensiones). Más adelante veremos cómo visualizar los grafos con TensorBoard, pero, por ahora, ponemos aquí la imagen.\n",
        "\n",
        "![alt text](https://github.com/AILearnersMX/TensorFlow-Course/blob/master/lesson1-intro/add.png?raw=true)"
      ]
    },
    {
      "cell_type": "code",
      "metadata": {
        "id": "bRX7yVTiOkPc",
        "outputId": "1ca0e6f8-435a-4aae-ae22-dff3ffc4d048",
        "colab": {
          "base_uri": "https://localhost:8080/"
        }
      },
      "source": [
        "a = tf.add(3, 5)\n",
        "print(a)"
      ],
      "execution_count": 2,
      "outputs": [
        {
          "output_type": "stream",
          "name": "stdout",
          "text": [
            "tf.Tensor(8, shape=(), dtype=int32)\n"
          ]
        }
      ]
    },
    {
      "cell_type": "markdown",
      "metadata": {
        "id": "HH1OpGY_pW3f"
      },
      "source": [
        "Como se mencionó antes, el grafo está compuesto por operaciones, **ops**, las cuales reciben como entrada cero o más tensores o pueden generar nuevos tensores.\n",
        "\n",
        "Al utilizar `print`, no nos está desplegando el resultado esperado. En cambio, sólo imprime información del tensor. Se debe crear una **session** desde la cuál se ejecutará el grafo. En otras palabras, el código de antes sólo genera el grafo que determina los tamaños de los tensores y las operaciones que se ejecutarán dentro de él. Para que los valores fluyan a través del grafo, se debe hacer con una sesión."
      ]
    },
    {
      "cell_type": "code",
      "metadata": {
        "id": "9g0viFiuOwnu",
        "outputId": "5fa3ee3c-6126-4293-8a04-52f04b68d239",
        "colab": {
          "base_uri": "https://localhost:8080/"
        }
      },
      "source": [
        "print(a)"
      ],
      "execution_count": 5,
      "outputs": [
        {
          "output_type": "stream",
          "name": "stdout",
          "text": [
            "tf.Tensor(8, shape=(), dtype=int32)\n"
          ]
        }
      ]
    },
    {
      "cell_type": "code",
      "metadata": {
        "id": "z-JlR1q6P8E5",
        "outputId": "883dfa22-43f4-4b1c-92c2-86060d8b9d99",
        "colab": {
          "base_uri": "https://localhost:8080/"
        }
      },
      "source": [
        "print(a)"
      ],
      "execution_count": 7,
      "outputs": [
        {
          "output_type": "stream",
          "name": "stdout",
          "text": [
            "tf.Tensor(8, shape=(), dtype=int32)\n"
          ]
        }
      ]
    },
    {
      "cell_type": "markdown",
      "metadata": {
        "id": "EAjl2x0NTtZF"
      },
      "source": [
        "## Ventajas de grafo"
      ]
    },
    {
      "cell_type": "markdown",
      "metadata": {
        "id": "VaWlL4OatGCV"
      },
      "source": [
        "En la siguiente celda hacemos la siguiente operación:\n",
        "\n",
        "`(2*3)^(2+5)`\n",
        "\n",
        "![alt text](https://github.com/AILearnersMX/TensorFlow-Course/blob/master/lesson1-intro/complex_graph.png?raw=true)"
      ]
    },
    {
      "cell_type": "code",
      "metadata": {
        "id": "L7vfJs3GQEfa",
        "outputId": "59db7b5f-9b03-482f-9c5a-196be91d8269",
        "colab": {
          "base_uri": "https://localhost:8080/"
        }
      },
      "source": [
        "x = 2\n",
        "y = 3\n",
        "\n",
        "op1 = tf.add(x, y)\n",
        "op2 = tf.multiply(x, y)\n",
        "op3 = tf.pow(op2, op1)\n",
        "\n",
        "print(op3)"
      ],
      "execution_count": 8,
      "outputs": [
        {
          "output_type": "stream",
          "name": "stdout",
          "text": [
            "tf.Tensor(7776, shape=(), dtype=int32)\n"
          ]
        }
      ]
    },
    {
      "cell_type": "markdown",
      "metadata": {
        "id": "9p0Zj3srtbsJ"
      },
      "source": [
        "Un grafo muestra las dependencias entre las operaciones. Esto evita ejecutar código innecesario. En la siguiente celda, tenemos una operación inutil, `useless`, que no se utiliza dentro de la sesión. Gracias a poder representar el programa como un grafo, esa operación nunca se ejecuta.\n",
        "\n",
        "![alt text](https://github.com/AILearnersMX/TensorFlow-Course/blob/master/lesson1-intro/useless_graph.png?raw=true)"
      ]
    },
    {
      "cell_type": "code",
      "metadata": {
        "id": "4risUVWBQYCC",
        "outputId": "0c32bac2-82c2-46ab-b776-49a1ddbbbac1",
        "colab": {
          "base_uri": "https://localhost:8080/"
        }
      },
      "source": [
        "x = 2\n",
        "y = 3\n",
        "\n",
        "op1 = tf.add(x, y)\n",
        "op2 = tf.multiply(x, y)\n",
        "op3 = tf.pow(op2, op1)\n",
        "useless = tf.multiply(x, op1)\n",
        "\n",
        "print(op3)"
      ],
      "execution_count": 10,
      "outputs": [
        {
          "output_type": "stream",
          "name": "stdout",
          "text": [
            "tf.Tensor(7776, shape=(), dtype=int32)\n"
          ]
        }
      ]
    },
    {
      "cell_type": "markdown",
      "metadata": {
        "id": "WCwTkmFQ0klZ"
      },
      "source": [
        "La siguiente celda muestra cómo ejecutar más de una operación dentro de la sesión. Esta es una buena oportunidad para aprender a buscar en la documentación oficial. [tf.Session().run(...)](https://www.tensorflow.org/api_docs/python/tf/Session#run) tiene varios parámetros. El que nos interesa es `fetches`.\n",
        "\n",
        "Como dice la documentación, el método `run` ejecuta el fragmento del grafo necesario para ejecutar esa operación. Viendo la documentación, `sess.run` puede recibir una lista de elementos de grafo como tensores y operaciones. Aquí un ejemplo:"
      ]
    },
    {
      "cell_type": "code",
      "metadata": {
        "id": "T1LQqM6zRM5E",
        "outputId": "adf32314-1768-406a-d884-cbd22e1fc52b",
        "colab": {
          "base_uri": "https://localhost:8080/"
        }
      },
      "source": [
        "# Definimos las constantes\n",
        "x = tf.constant(2)\n",
        "y = tf.constant(3)\n",
        "\n",
        "# Definimos las operaciones\n",
        "op1 = tf.add(x, y)\n",
        "op2 = tf.multiply(x, y)\n",
        "op3 = tf.pow(op2, op1)\n",
        "op4 = tf.multiply(x, op1)\n",
        "\n",
        "# Ejecutamos y obtenemos los resultados directamente\n",
        "z = op3.numpy()\n",
        "not_useless = op4.numpy()\n",
        "\n",
        "# Imprimimos los resultados\n",
        "print(z, not_useless)"
      ],
      "execution_count": 11,
      "outputs": [
        {
          "output_type": "stream",
          "name": "stdout",
          "text": [
            "7776 10\n"
          ]
        }
      ]
    },
    {
      "cell_type": "markdown",
      "metadata": {
        "id": "9jqqiwmBTlvP"
      },
      "source": [
        "##Paralelización\n",
        "\n",
        "La siguiente celda nos permite determinar si hay un GPU disponibe. Por suerte, Colab nos da GPU y TPU gratuitos (con algunas limitaciones). En la barra de herramientas, podemos agregar GPU en: Runtime > Change Runtime Type > Hardware Acceleration > GPU. Nota que esto cambia a otro ambiente, por lo que tendrás que volver a correr las celdas para importar TensorFlow."
      ]
    },
    {
      "cell_type": "code",
      "metadata": {
        "id": "C8mc52DWU5-V",
        "outputId": "9231a9b0-313f-415f-b47e-d65c02d32fc7",
        "colab": {
          "base_uri": "https://localhost:8080/"
        }
      },
      "source": [
        "# Check if a GPU device is available\n",
        "gpu_available = len(tf.config.list_physical_devices('GPU')) > 0\n",
        "\n",
        "# Print the availability of a GPU device\n",
        "print(f\"GPU available: {gpu_available}\")\n",
        "\n",
        "# Get the name of the GPU device, if available\n",
        "if gpu_available:\n",
        "    gpu_device_name = tf.config.list_physical_devices('GPU')[0].name\n",
        "    print(f\"GPU device name: {gpu_device_name}\")"
      ],
      "execution_count": 4,
      "outputs": [
        {
          "output_type": "stream",
          "name": "stdout",
          "text": [
            "GPU available: True\n",
            "GPU device name: /physical_device:GPU:0\n"
          ]
        }
      ]
    },
    {
      "cell_type": "markdown",
      "metadata": {
        "id": "B4Yt_EroWt4j"
      },
      "source": [
        "En la siguiente celda hacemos algo llamado explicit device placement. Esto significa que podemos ejecutar algo directamente en un pedazo de hardware específico. En este ejemplo se multiplican dos tensores constantes."
      ]
    },
    {
      "source": [
        "# Define TensorFlow constants on the GPU device\n",
        "with tf.device('/gpu:0'):\n",
        "    a = tf.constant([1.0, 2.0, 3.0], name='a')\n",
        "    b = tf.constant([1.0, 2.0, 5.0], name='b')\n",
        "\n",
        "# Perform multiplication on the GPU device\n",
        "c = tf.multiply(a, b)\n",
        "\n",
        "# Print the result\n",
        "print(c)"
      ],
      "cell_type": "code",
      "metadata": {
        "colab": {
          "base_uri": "https://localhost:8080/"
        },
        "id": "QSv-gjYWE5eX",
        "outputId": "4e88c58b-285c-45e1-80fe-2e1298d44266"
      },
      "execution_count": 5,
      "outputs": [
        {
          "output_type": "stream",
          "name": "stdout",
          "text": [
            "tf.Tensor([ 1.  4. 15.], shape=(3,), dtype=float32)\n"
          ]
        }
      ]
    },
    {
      "cell_type": "markdown",
      "metadata": {
        "id": "F7dN1h8pTjZS"
      },
      "source": [
        "## Eager Execution"
      ]
    },
    {
      "cell_type": "markdown",
      "metadata": {
        "id": "5-xqZIKB7gJG"
      },
      "source": [
        "Eager Execution es un modelo imperativo de TensorFlow que evita tener que ejecutar sesiones y crear grafos. En un taller más adelante entraremos en mayor detalle, pero mostraremos su funcionamiento en alto nivel.\n",
        "\n",
        "Con Eager Execution, el grafo se ejecuta directamente. Sus ventajas son:\n",
        "\n",
        "*   Más intuitivo y fácil de aprender. Funciona más parecido al código de Python normal.\n",
        "*   Más fácil de hacer debugging en este modelo.\n",
        "*   Reduce código boilerplate.\n",
        "*   Flujo más sencillo.\n",
        "\n",
        "Pero también tiene desventajas:\n",
        "\n",
        "*   No funciona tan bien al distribuirlo.\n",
        "*   Peor desempeño en producción\n",
        "\n",
        "¡No se preocupen! Ambas técnicas se pueden mezclar. Se puede convertir código de Eager Execution a grafo sin dificultad, pero esto lo veremos más adelante. Es importante destacar que en TensorFlow 2.0, Eager Execution será central y estará habilidado por defecto. Antes de correr la siguiente celda, es necesario que reinicies el ambiente (Runtime > Restart Runtime )."
      ]
    },
    {
      "source": [
        "# Enable eager execution in TensorFlow 2\n",
        "tf.config.run_functions_eagerly(True)"
      ],
      "cell_type": "code",
      "metadata": {
        "id": "wz_nMEDbFUUv"
      },
      "execution_count": 6,
      "outputs": []
    },
    {
      "cell_type": "code",
      "metadata": {
        "id": "V2fFIT0sY5bu",
        "outputId": "a92c0b7b-6949-4e70-b310-f2d1a3f2246c",
        "colab": {
          "base_uri": "https://localhost:8080/"
        }
      },
      "source": [
        "tf.executing_eagerly()"
      ],
      "execution_count": 7,
      "outputs": [
        {
          "output_type": "execute_result",
          "data": {
            "text/plain": [
              "True"
            ]
          },
          "metadata": {},
          "execution_count": 7
        }
      ]
    },
    {
      "cell_type": "code",
      "metadata": {
        "id": "wNl3dmlTTxQ1",
        "outputId": "5ce83c7f-1ce3-4b50-f14e-a9dfa83060be",
        "colab": {
          "base_uri": "https://localhost:8080/"
        }
      },
      "source": [
        "print(tf.add([1, 2], [2, 2]))"
      ],
      "execution_count": 8,
      "outputs": [
        {
          "output_type": "stream",
          "name": "stdout",
          "text": [
            "tf.Tensor([3 4], shape=(2,), dtype=int32)\n"
          ]
        }
      ]
    },
    {
      "cell_type": "code",
      "metadata": {
        "id": "jXFp66NIUBcA",
        "outputId": "f2f6a5fd-bc7d-40f9-80e5-6ff59d4ab247",
        "colab": {
          "base_uri": "https://localhost:8080/"
        }
      },
      "source": [
        "print(tf.square(5))\n",
        "print(tf.reduce_sum([1, 2, 3]))\n",
        "\n",
        "# Encode the string \"hello world\" using base64 encoding\n",
        "encoded_string = tf.io.encode_base64(\"hello world\")\n",
        "\n",
        "# Print the encoded string\n",
        "print(encoded_string)\n"
      ],
      "execution_count": 9,
      "outputs": [
        {
          "output_type": "stream",
          "name": "stdout",
          "text": [
            "tf.Tensor(25, shape=(), dtype=int32)\n",
            "tf.Tensor(6, shape=(), dtype=int32)\n",
            "tf.Tensor(b'aGVsbG8gd29ybGQ', shape=(), dtype=string)\n"
          ]
        }
      ]
    },
    {
      "cell_type": "code",
      "metadata": {
        "id": "kA9cVjtlUG0x",
        "outputId": "22d62434-4c22-4b4b-9619-1ebf1412377d",
        "colab": {
          "base_uri": "https://localhost:8080/"
        }
      },
      "source": [
        "x = tf.matmul([[1]], [[2, 3]])\n",
        "print(x.shape)\n",
        "print(x.dtype)"
      ],
      "execution_count": 10,
      "outputs": [
        {
          "output_type": "stream",
          "name": "stdout",
          "text": [
            "(1, 2)\n",
            "<dtype: 'int32'>\n"
          ]
        }
      ]
    },
    {
      "cell_type": "markdown",
      "metadata": {
        "id": "AZ6eeVDOUr3F"
      },
      "source": [
        "## NumPy y TensorFlow"
      ]
    },
    {
      "cell_type": "markdown",
      "metadata": {
        "id": "N5byHu7__Ojp"
      },
      "source": [
        "Cerramos el cuaderno hablando de la compatibilidad entre NumPy y TensorFlow. A diferencias de los `ndarray`s, `Tensor` es inmutable y tiene accesso a memoria acelerada (GPU). Aún así, trabajar con NumPy y TensorFlow es extremadamente sencillo y podemos utilizar ambos en un proyecto (es lo normal)."
      ]
    },
    {
      "cell_type": "code",
      "metadata": {
        "id": "6mW7UNlLULdL",
        "colab": {
          "base_uri": "https://localhost:8080/"
        },
        "outputId": "b9aef11a-d3a0-4bc9-bd96-2efcbd1a55f1"
      },
      "source": [
        "import numpy as np\n",
        "\n",
        "many_ones = np.ones([3, 3])\n",
        "print(\"many_ones: \")\n",
        "print(many_ones)"
      ],
      "execution_count": 13,
      "outputs": [
        {
          "output_type": "stream",
          "name": "stdout",
          "text": [
            "many_ones: \n",
            "[[1. 1. 1.]\n",
            " [1. 1. 1.]\n",
            " [1. 1. 1.]]\n"
          ]
        }
      ]
    },
    {
      "cell_type": "markdown",
      "metadata": {
        "id": "uLf3SD1e_rWu"
      },
      "source": [
        "Cualquier op que reciba un `ndarray` lo convertirá directamente a un tensor."
      ]
    },
    {
      "cell_type": "code",
      "metadata": {
        "id": "DZkaV-B8UwSb",
        "outputId": "e0129cd8-4b7f-4895-8f8c-36b9a83488b6",
        "colab": {
          "base_uri": "https://localhost:8080/"
        }
      },
      "source": [
        "tensor = tf.multiply(many_ones, 42)\n",
        "print(tensor)"
      ],
      "execution_count": 14,
      "outputs": [
        {
          "output_type": "stream",
          "name": "stdout",
          "text": [
            "tf.Tensor(\n",
            "[[42. 42. 42.]\n",
            " [42. 42. 42.]\n",
            " [42. 42. 42.]], shape=(3, 3), dtype=float64)\n"
          ]
        }
      ]
    },
    {
      "cell_type": "markdown",
      "metadata": {
        "id": "WShvaH8E_9Bq"
      },
      "source": [
        "A su vez, las operaciones de NumPy pueden recibir un tensor directamente."
      ]
    },
    {
      "cell_type": "code",
      "metadata": {
        "id": "2ZYX44MSUwfj",
        "outputId": "6c7eede8-892a-4f36-d2b7-942c92faecb4",
        "colab": {
          "base_uri": "https://localhost:8080/",
          "height": 70
        }
      },
      "source": [
        "print(np.add(tensor, 1))"
      ],
      "execution_count": null,
      "outputs": [
        {
          "output_type": "stream",
          "text": [
            "[[43. 43. 43.]\n",
            " [43. 43. 43.]\n",
            " [43. 43. 43.]]\n"
          ],
          "name": "stdout"
        }
      ]
    },
    {
      "cell_type": "code",
      "metadata": {
        "id": "1UH82H92UzEs",
        "outputId": "5f2e56c4-26c9-4081-c33a-3e04a114067b",
        "colab": {
          "base_uri": "https://localhost:8080/"
        }
      },
      "source": [
        "print(type(tensor))"
      ],
      "execution_count": 15,
      "outputs": [
        {
          "output_type": "stream",
          "name": "stdout",
          "text": [
            "<class 'tensorflow.python.framework.ops.EagerTensor'>\n"
          ]
        }
      ]
    }
  ]
}